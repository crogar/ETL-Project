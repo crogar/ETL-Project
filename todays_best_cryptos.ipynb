{
 "cells": [
  {
   "cell_type": "markdown",
   "metadata": {},
   "source": [
    "# Today's cryptocurrencies historical data"
   ]
  },
  {
   "cell_type": "code",
   "execution_count": 1,
   "metadata": {},
   "outputs": [],
   "source": [
    "import pandas as pd\n",
    "pd.options.mode.chained_assignment = None  # default='warn'\n",
    "import pendulum\n",
    "from sqlalchemy import create_engine\n",
    "import numpy as np\n",
    "from splinter import Browser\n",
    "from bs4 import BeautifulSoup\n",
    "import os\n",
    "import requests\n",
    "import json"
   ]
  },
  {
   "cell_type": "markdown",
   "metadata": {},
   "source": [
    "#### Context : Finance\n",
    "\n",
    "#### Goal: Our goal is to create tables showing today’s 10 best/most profitable cryptocurrencies to invest in. We will look at historical data for the previous year and create a database by hourly and daily price changes. \n",
    "\n",
    "#### METHOD: we aim to do this by extracting data based on the ranks of the cryptocurrency and also the daily and hourly change of the cryptocurrency. \n",
    "\n",
    "#### FINDING DATA: Following are the sources for finding and collecting our data. Sources: Cryptocurrencies: https://coinmarketcap.com/ \n",
    "CSV files: https://www.cryptodatadownload.com/data/binance/\n",
    "APIs: https://financialmodelingprep.com/api/v3/ https://rest.coinapi.io/v1/\n",
    "\n",
    "#### Data collection tools: Splinter APIs BeautifulSoup\n",
    "\n",
    "#### DATA AND CLEANUP: \n",
    "##### Cleanup process: Pandas SqlAlchemy Database: PostgreSQL\n",
    "\n",
    "##### TEAM MEMBERS Juan Castaneda Elif Evrim Polat Nichole Edet"
   ]
  },
  {
   "cell_type": "markdown",
   "metadata": {},
   "source": [
    "<div><h3 style=\"color:green;\">Web Scraping - Obtaining today's best cryptocurrencies liste at https://coinmarketcap.com </h3></div>"
   ]
  },
  {
   "cell_type": "code",
   "execution_count": 2,
   "metadata": {},
   "outputs": [],
   "source": [
    "# Obtaining Tables at the next link using pandas\n",
    "url = 'https://coinmarketcap.com/'"
   ]
  },
  {
   "cell_type": "code",
   "execution_count": 3,
   "metadata": {},
   "outputs": [],
   "source": [
    "tables = pd.read_html(url)"
   ]
  },
  {
   "cell_type": "code",
   "execution_count": 4,
   "metadata": {},
   "outputs": [
    {
     "data": {
      "text/html": [
       "<div>\n",
       "<style scoped>\n",
       "    .dataframe tbody tr th:only-of-type {\n",
       "        vertical-align: middle;\n",
       "    }\n",
       "\n",
       "    .dataframe tbody tr th {\n",
       "        vertical-align: top;\n",
       "    }\n",
       "\n",
       "    .dataframe thead th {\n",
       "        text-align: right;\n",
       "    }\n",
       "</style>\n",
       "<table border=\"1\" class=\"dataframe\">\n",
       "  <thead>\n",
       "    <tr style=\"text-align: right;\">\n",
       "      <th></th>\n",
       "      <th>Unnamed: 0</th>\n",
       "      <th>#</th>\n",
       "      <th>Name</th>\n",
       "      <th>Price</th>\n",
       "      <th>24h %</th>\n",
       "      <th>7d %</th>\n",
       "      <th>Market Cap</th>\n",
       "      <th>Volume(24h)</th>\n",
       "      <th>Circulating Supply</th>\n",
       "      <th>Last 7 Days</th>\n",
       "      <th>Unnamed: 10</th>\n",
       "    </tr>\n",
       "  </thead>\n",
       "  <tbody>\n",
       "    <tr>\n",
       "      <th>0</th>\n",
       "      <td>NaN</td>\n",
       "      <td>1.0</td>\n",
       "      <td>Bitcoin1BTCBuy</td>\n",
       "      <td>$62,258.33</td>\n",
       "      <td>0.94%</td>\n",
       "      <td>11.22%</td>\n",
       "      <td>$1,163,152,202,111</td>\n",
       "      <td>$75,709,967,3161,216,062 BTC</td>\n",
       "      <td>18,682,675 BTC</td>\n",
       "      <td>NaN</td>\n",
       "      <td>NaN</td>\n",
       "    </tr>\n",
       "    <tr>\n",
       "      <th>1</th>\n",
       "      <td>NaN</td>\n",
       "      <td>2.0</td>\n",
       "      <td>Ethereum2ETHBuy</td>\n",
       "      <td>$2,351.83</td>\n",
       "      <td>3.00%</td>\n",
       "      <td>19.10%</td>\n",
       "      <td>$271,565,043,644</td>\n",
       "      <td>$33,474,332,22014,233,318 ETH</td>\n",
       "      <td>115,469,714 ETH</td>\n",
       "      <td>NaN</td>\n",
       "      <td>NaN</td>\n",
       "    </tr>\n",
       "    <tr>\n",
       "      <th>2</th>\n",
       "      <td>NaN</td>\n",
       "      <td>3.0</td>\n",
       "      <td>Binance Coin3BNBBuy</td>\n",
       "      <td>$539.11</td>\n",
       "      <td>2.97%</td>\n",
       "      <td>45.00%</td>\n",
       "      <td>$83,310,372,325</td>\n",
       "      <td>$7,320,010,21213,577,920 BNB</td>\n",
       "      <td>154,532,785 BNB</td>\n",
       "      <td>NaN</td>\n",
       "      <td>NaN</td>\n",
       "    </tr>\n",
       "    <tr>\n",
       "      <th>3</th>\n",
       "      <td>NaN</td>\n",
       "      <td>4.0</td>\n",
       "      <td>XRP4XRP</td>\n",
       "      <td>$1.74</td>\n",
       "      <td>3.35%</td>\n",
       "      <td>89.96%</td>\n",
       "      <td>$78,959,453,845</td>\n",
       "      <td>$28,771,145,44616,544,262,254 XRP</td>\n",
       "      <td>45,404,028,640 XRP</td>\n",
       "      <td>NaN</td>\n",
       "      <td>NaN</td>\n",
       "    </tr>\n",
       "    <tr>\n",
       "      <th>4</th>\n",
       "      <td>NaN</td>\n",
       "      <td>5.0</td>\n",
       "      <td>Tether5USDTBuy</td>\n",
       "      <td>$1.00</td>\n",
       "      <td>0.14%</td>\n",
       "      <td>0.05%</td>\n",
       "      <td>$45,923,672,909</td>\n",
       "      <td>$166,444,451,962166,198,273,532 USDT</td>\n",
       "      <td>45,855,749,841 USDT</td>\n",
       "      <td>NaN</td>\n",
       "      <td>NaN</td>\n",
       "    </tr>\n",
       "  </tbody>\n",
       "</table>\n",
       "</div>"
      ],
      "text/plain": [
       "   Unnamed: 0    #                 Name       Price  24h %    7d %  \\\n",
       "0         NaN  1.0       Bitcoin1BTCBuy  $62,258.33  0.94%  11.22%   \n",
       "1         NaN  2.0      Ethereum2ETHBuy   $2,351.83  3.00%  19.10%   \n",
       "2         NaN  3.0  Binance Coin3BNBBuy     $539.11  2.97%  45.00%   \n",
       "3         NaN  4.0              XRP4XRP       $1.74  3.35%  89.96%   \n",
       "4         NaN  5.0       Tether5USDTBuy       $1.00  0.14%   0.05%   \n",
       "\n",
       "           Market Cap                           Volume(24h)  \\\n",
       "0  $1,163,152,202,111          $75,709,967,3161,216,062 BTC   \n",
       "1    $271,565,043,644         $33,474,332,22014,233,318 ETH   \n",
       "2     $83,310,372,325          $7,320,010,21213,577,920 BNB   \n",
       "3     $78,959,453,845     $28,771,145,44616,544,262,254 XRP   \n",
       "4     $45,923,672,909  $166,444,451,962166,198,273,532 USDT   \n",
       "\n",
       "    Circulating Supply  Last 7 Days  Unnamed: 10  \n",
       "0       18,682,675 BTC          NaN          NaN  \n",
       "1      115,469,714 ETH          NaN          NaN  \n",
       "2      154,532,785 BNB          NaN          NaN  \n",
       "3   45,404,028,640 XRP          NaN          NaN  \n",
       "4  45,855,749,841 USDT          NaN          NaN  "
      ]
     },
     "execution_count": 4,
     "metadata": {},
     "output_type": "execute_result"
    }
   ],
   "source": [
    "df = tables[0]\n",
    "df.head()"
   ]
  },
  {
   "cell_type": "code",
   "execution_count": 5,
   "metadata": {
    "scrolled": true
   },
   "outputs": [
    {
     "data": {
      "text/html": [
       "<div>\n",
       "<style scoped>\n",
       "    .dataframe tbody tr th:only-of-type {\n",
       "        vertical-align: middle;\n",
       "    }\n",
       "\n",
       "    .dataframe tbody tr th {\n",
       "        vertical-align: top;\n",
       "    }\n",
       "\n",
       "    .dataframe thead th {\n",
       "        text-align: right;\n",
       "    }\n",
       "</style>\n",
       "<table border=\"1\" class=\"dataframe\">\n",
       "  <thead>\n",
       "    <tr style=\"text-align: right;\">\n",
       "      <th></th>\n",
       "      <th>#</th>\n",
       "      <th>Name</th>\n",
       "      <th>Price</th>\n",
       "    </tr>\n",
       "  </thead>\n",
       "  <tbody>\n",
       "    <tr>\n",
       "      <th>0</th>\n",
       "      <td>1.0</td>\n",
       "      <td>Bitcoin1BTCBuy</td>\n",
       "      <td>$62,258.33</td>\n",
       "    </tr>\n",
       "    <tr>\n",
       "      <th>1</th>\n",
       "      <td>2.0</td>\n",
       "      <td>Ethereum2ETHBuy</td>\n",
       "      <td>$2,351.83</td>\n",
       "    </tr>\n",
       "    <tr>\n",
       "      <th>2</th>\n",
       "      <td>3.0</td>\n",
       "      <td>Binance Coin3BNBBuy</td>\n",
       "      <td>$539.11</td>\n",
       "    </tr>\n",
       "    <tr>\n",
       "      <th>3</th>\n",
       "      <td>4.0</td>\n",
       "      <td>XRP4XRP</td>\n",
       "      <td>$1.74</td>\n",
       "    </tr>\n",
       "    <tr>\n",
       "      <th>4</th>\n",
       "      <td>5.0</td>\n",
       "      <td>Tether5USDTBuy</td>\n",
       "      <td>$1.00</td>\n",
       "    </tr>\n",
       "  </tbody>\n",
       "</table>\n",
       "</div>"
      ],
      "text/plain": [
       "     #                 Name       Price\n",
       "0  1.0       Bitcoin1BTCBuy  $62,258.33\n",
       "1  2.0      Ethereum2ETHBuy   $2,351.83\n",
       "2  3.0  Binance Coin3BNBBuy     $539.11\n",
       "3  4.0              XRP4XRP       $1.74\n",
       "4  5.0       Tether5USDTBuy       $1.00"
      ]
     },
     "execution_count": 5,
     "metadata": {},
     "output_type": "execute_result"
    }
   ],
   "source": [
    "# using only the tables that will match our PostgreSQL database schema\n",
    "columns = ['#', 'Name', 'Price']\n",
    "cryptos_df = df[columns]\n",
    "cryptos_df.head()"
   ]
  },
  {
   "cell_type": "code",
   "execution_count": 6,
   "metadata": {
    "scrolled": true
   },
   "outputs": [],
   "source": [
    "# converting # column values to integer\n",
    "cryptos_df['#'] = cryptos_df['#'].astype(float).map(\"{:.0f}\".format).copy()"
   ]
  },
  {
   "cell_type": "code",
   "execution_count": 7,
   "metadata": {
    "scrolled": true
   },
   "outputs": [
    {
     "data": {
      "text/html": [
       "<div>\n",
       "<style scoped>\n",
       "    .dataframe tbody tr th:only-of-type {\n",
       "        vertical-align: middle;\n",
       "    }\n",
       "\n",
       "    .dataframe tbody tr th {\n",
       "        vertical-align: top;\n",
       "    }\n",
       "\n",
       "    .dataframe thead th {\n",
       "        text-align: right;\n",
       "    }\n",
       "</style>\n",
       "<table border=\"1\" class=\"dataframe\">\n",
       "  <thead>\n",
       "    <tr style=\"text-align: right;\">\n",
       "      <th></th>\n",
       "      <th>#</th>\n",
       "      <th>Name</th>\n",
       "      <th>Price</th>\n",
       "    </tr>\n",
       "  </thead>\n",
       "  <tbody>\n",
       "    <tr>\n",
       "      <th>0</th>\n",
       "      <td>1</td>\n",
       "      <td>Bitcoin1BTCBuy</td>\n",
       "      <td>$62,258.33</td>\n",
       "    </tr>\n",
       "    <tr>\n",
       "      <th>1</th>\n",
       "      <td>2</td>\n",
       "      <td>Ethereum2ETHBuy</td>\n",
       "      <td>$2,351.83</td>\n",
       "    </tr>\n",
       "    <tr>\n",
       "      <th>2</th>\n",
       "      <td>3</td>\n",
       "      <td>Binance Coin3BNBBuy</td>\n",
       "      <td>$539.11</td>\n",
       "    </tr>\n",
       "    <tr>\n",
       "      <th>3</th>\n",
       "      <td>4</td>\n",
       "      <td>XRP4XRP</td>\n",
       "      <td>$1.74</td>\n",
       "    </tr>\n",
       "    <tr>\n",
       "      <th>4</th>\n",
       "      <td>5</td>\n",
       "      <td>Tether5USDTBuy</td>\n",
       "      <td>$1.00</td>\n",
       "    </tr>\n",
       "  </tbody>\n",
       "</table>\n",
       "</div>"
      ],
      "text/plain": [
       "   #                 Name       Price\n",
       "0  1       Bitcoin1BTCBuy  $62,258.33\n",
       "1  2      Ethereum2ETHBuy   $2,351.83\n",
       "2  3  Binance Coin3BNBBuy     $539.11\n",
       "3  4              XRP4XRP       $1.74\n",
       "4  5       Tether5USDTBuy       $1.00"
      ]
     },
     "execution_count": 7,
     "metadata": {},
     "output_type": "execute_result"
    }
   ],
   "source": [
    "cryptos_df.head()"
   ]
  },
  {
   "cell_type": "code",
   "execution_count": 26,
   "metadata": {},
   "outputs": [
    {
     "data": {
      "text/html": [
       "<div>\n",
       "<style scoped>\n",
       "    .dataframe tbody tr th:only-of-type {\n",
       "        vertical-align: middle;\n",
       "    }\n",
       "\n",
       "    .dataframe tbody tr th {\n",
       "        vertical-align: top;\n",
       "    }\n",
       "\n",
       "    .dataframe thead th {\n",
       "        text-align: right;\n",
       "    }\n",
       "</style>\n",
       "<table border=\"1\" class=\"dataframe\">\n",
       "  <thead>\n",
       "    <tr style=\"text-align: right;\">\n",
       "      <th></th>\n",
       "      <th>coin_name</th>\n",
       "      <th>coin_symbol</th>\n",
       "    </tr>\n",
       "  </thead>\n",
       "  <tbody>\n",
       "    <tr>\n",
       "      <th>0</th>\n",
       "      <td>Bitcoin</td>\n",
       "      <td>BTC</td>\n",
       "    </tr>\n",
       "    <tr>\n",
       "      <th>1</th>\n",
       "      <td>Ethereum</td>\n",
       "      <td>ETH</td>\n",
       "    </tr>\n",
       "    <tr>\n",
       "      <th>2</th>\n",
       "      <td>Binance Coin</td>\n",
       "      <td>BNB</td>\n",
       "    </tr>\n",
       "    <tr>\n",
       "      <th>3</th>\n",
       "      <td>XRP</td>\n",
       "      <td>XRP</td>\n",
       "    </tr>\n",
       "    <tr>\n",
       "      <th>4</th>\n",
       "      <td>Tether</td>\n",
       "      <td>USDT</td>\n",
       "    </tr>\n",
       "  </tbody>\n",
       "</table>\n",
       "</div>"
      ],
      "text/plain": [
       "      coin_name coin_symbol\n",
       "0       Bitcoin         BTC\n",
       "1      Ethereum         ETH\n",
       "2  Binance Coin         BNB\n",
       "3           XRP         XRP\n",
       "4        Tether        USDT"
      ]
     },
     "execution_count": 26,
     "metadata": {},
     "output_type": "execute_result"
    }
   ],
   "source": [
    "# Splitting Name column into 2 different columns which will containt the coin name and coin symbol using a number as a delimiter\n",
    "# and using n=1 to do this only once, in case the coin name contains a number already\n",
    "columnsplit = cryptos_df['Name'].str.split('(\\d+)',n=1, expand=True)\n",
    "# Dropping column with index 1(which contain the digit) and immediately renaming the columns\n",
    "columnsplit = columnsplit.drop(columns=1).rename({0:\"coin_name\", 2:\"coin_symbol\"}, axis=1)\n",
    "# since coin_symbol column originally contains a recommendation to \"Buy\" if applicable on coinmarketcap, we will get rid of that\n",
    "columnsplit['coin_symbol'] = columnsplit['coin_symbol'].str.replace('Buy', '', regex=True)\n",
    "columnsplit.head()"
   ]
  },
  {
   "cell_type": "code",
   "execution_count": null,
   "metadata": {},
   "outputs": [],
   "source": []
  }
 ],
 "metadata": {
  "kernelspec": {
   "display_name": "Python 3",
   "language": "python",
   "name": "python3"
  },
  "language_info": {
   "codemirror_mode": {
    "name": "ipython",
    "version": 3
   },
   "file_extension": ".py",
   "mimetype": "text/x-python",
   "name": "python",
   "nbconvert_exporter": "python",
   "pygments_lexer": "ipython3",
   "version": "3.8.5"
  }
 },
 "nbformat": 4,
 "nbformat_minor": 4
}
