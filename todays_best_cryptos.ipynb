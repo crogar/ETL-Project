{
 "cells": [
  {
   "cell_type": "markdown",
   "metadata": {},
   "source": [
    "# Today's cryptocurrencies historical data on by Market Cap "
   ]
  },
  {
   "cell_type": "code",
   "execution_count": 1,
   "metadata": {},
   "outputs": [],
   "source": [
    "import pandas as pd\n",
    "pd.options.mode.chained_assignment = None  # default='warn'\n",
    "import pendulum\n",
    "from sqlalchemy import create_engine\n",
    "from webdriver_manager.chrome import ChromeDriverManager\n",
    "import numpy as np\n",
    "from splinter import Browser\n",
    "from bs4 import BeautifulSoup\n",
    "import os\n",
    "import requests\n",
    "import json"
   ]
  },
  {
   "cell_type": "code",
   "execution_count": 2,
   "metadata": {},
   "outputs": [
    {
     "name": "stderr",
     "output_type": "stream",
     "text": [
      "[WDM] - ====== WebDriver manager ======\n",
      "[WDM] - Current google-chrome version is 89.0.4389\n",
      "[WDM] - Get LATEST driver version for 89.0.4389\n",
      "[WDM] - Driver [C:\\Users\\jich-\\.wdm\\drivers\\chromedriver\\win32\\89.0.4389.23\\chromedriver.exe] found in cache\n"
     ]
    },
    {
     "name": "stdout",
     "output_type": "stream",
     "text": [
      "\n",
      "\n"
     ]
    }
   ],
   "source": [
    "executable_path = {'executable_path': ChromeDriverManager().install()}\n",
    "browser = Browser('chrome', **executable_path, headless=False)"
   ]
  },
  {
   "cell_type": "markdown",
   "metadata": {},
   "source": [
    "#### Context : Finance\n",
    "\n",
    "#### Goal: Our goal is to create tables showing today’s 10 best/most profitable cryptocurrencies to invest in. We will look at historical data for the previous year and create a database by hourly and daily price changes. \n",
    "\n",
    "#### METHOD: we aim to do this by extracting data based on the ranks of the cryptocurrency and also the daily and hourly change of the cryptocurrency. \n",
    "\n",
    "#### FINDING DATA: Following are the sources for finding and collecting our data. Sources: Cryptocurrencies: https://coinmarketcap.com/ \n",
    "CSV files: https://www.cryptodatadownload.com/data/binance/\n",
    "APIs: https://financialmodelingprep.com/api/v3/ https://rest.coinapi.io/v1/\n",
    "\n",
    "#### Data collection tools: Splinter APIs BeautifulSoup\n",
    "\n",
    "#### DATA AND CLEANUP: \n",
    "##### Cleanup process: Pandas SqlAlchemy Database: PostgreSQL\n",
    "\n",
    "##### TEAM MEMBERS Juan Castaneda Elif Evrim Polat Nichole Edet"
   ]
  },
  {
   "cell_type": "markdown",
   "metadata": {},
   "source": [
    "<div><h3 style=\"color:green;\">Web Scraping - Obtaining today's best cryptocurrencies liste at https://coinmarketcap.com </h3></div>"
   ]
  },
  {
   "cell_type": "code",
   "execution_count": 3,
   "metadata": {},
   "outputs": [],
   "source": [
    "# Obtaining Tables at the next link using pandas\n",
    "url = 'https://coinmarketcap.com/'"
   ]
  },
  {
   "cell_type": "code",
   "execution_count": 4,
   "metadata": {},
   "outputs": [],
   "source": [
    "tables = pd.read_html(url)"
   ]
  },
  {
   "cell_type": "code",
   "execution_count": 5,
   "metadata": {},
   "outputs": [
    {
     "data": {
      "text/html": [
       "<div>\n",
       "<style scoped>\n",
       "    .dataframe tbody tr th:only-of-type {\n",
       "        vertical-align: middle;\n",
       "    }\n",
       "\n",
       "    .dataframe tbody tr th {\n",
       "        vertical-align: top;\n",
       "    }\n",
       "\n",
       "    .dataframe thead th {\n",
       "        text-align: right;\n",
       "    }\n",
       "</style>\n",
       "<table border=\"1\" class=\"dataframe\">\n",
       "  <thead>\n",
       "    <tr style=\"text-align: right;\">\n",
       "      <th></th>\n",
       "      <th>Unnamed: 0</th>\n",
       "      <th>#</th>\n",
       "      <th>Name</th>\n",
       "      <th>Price</th>\n",
       "      <th>24h %</th>\n",
       "      <th>7d %</th>\n",
       "      <th>Market Cap</th>\n",
       "      <th>Volume(24h)</th>\n",
       "      <th>Circulating Supply</th>\n",
       "      <th>Last 7 Days</th>\n",
       "      <th>Unnamed: 10</th>\n",
       "    </tr>\n",
       "  </thead>\n",
       "  <tbody>\n",
       "    <tr>\n",
       "      <th>0</th>\n",
       "      <td>NaN</td>\n",
       "      <td>1.0</td>\n",
       "      <td>Bitcoin1BTCBuy</td>\n",
       "      <td>$63,008.45</td>\n",
       "      <td>0.23%</td>\n",
       "      <td>11.56%</td>\n",
       "      <td>$1,177,169,496,597</td>\n",
       "      <td>$77,519,743,9171,230,307 BTC</td>\n",
       "      <td>18,682,725 BTC</td>\n",
       "      <td>NaN</td>\n",
       "      <td>NaN</td>\n",
       "    </tr>\n",
       "    <tr>\n",
       "      <th>1</th>\n",
       "      <td>NaN</td>\n",
       "      <td>2.0</td>\n",
       "      <td>Ethereum2ETHBuy</td>\n",
       "      <td>$2,441.04</td>\n",
       "      <td>7.16%</td>\n",
       "      <td>21.46%</td>\n",
       "      <td>$281,868,469,681</td>\n",
       "      <td>$35,510,332,42714,547,240 ETH</td>\n",
       "      <td>115,470,846 ETH</td>\n",
       "      <td>NaN</td>\n",
       "      <td>NaN</td>\n",
       "    </tr>\n",
       "    <tr>\n",
       "      <th>2</th>\n",
       "      <td>NaN</td>\n",
       "      <td>3.0</td>\n",
       "      <td>Binance Coin3BNBBuy</td>\n",
       "      <td>$541.02</td>\n",
       "      <td>3.00%</td>\n",
       "      <td>40.95%</td>\n",
       "      <td>$83,605,967,596</td>\n",
       "      <td>$7,377,412,66413,636,014 BNB</td>\n",
       "      <td>154,532,785 BNB</td>\n",
       "      <td>NaN</td>\n",
       "      <td>NaN</td>\n",
       "    </tr>\n",
       "    <tr>\n",
       "      <th>3</th>\n",
       "      <td>NaN</td>\n",
       "      <td>4.0</td>\n",
       "      <td>XRP4XRP</td>\n",
       "      <td>$1.82</td>\n",
       "      <td>4.73%</td>\n",
       "      <td>92.61%</td>\n",
       "      <td>$82,740,707,544</td>\n",
       "      <td>$28,831,557,68815,821,340,062 XRP</td>\n",
       "      <td>45,404,028,640 XRP</td>\n",
       "      <td>NaN</td>\n",
       "      <td>NaN</td>\n",
       "    </tr>\n",
       "    <tr>\n",
       "      <th>4</th>\n",
       "      <td>NaN</td>\n",
       "      <td>5.0</td>\n",
       "      <td>Cardano5ADA</td>\n",
       "      <td>$1.48</td>\n",
       "      <td>5.91%</td>\n",
       "      <td>23.70%</td>\n",
       "      <td>$47,196,914,481</td>\n",
       "      <td>$9,639,600,2536,525,192,063 ADA</td>\n",
       "      <td>31,948,309,441 ADA</td>\n",
       "      <td>NaN</td>\n",
       "      <td>NaN</td>\n",
       "    </tr>\n",
       "  </tbody>\n",
       "</table>\n",
       "</div>"
      ],
      "text/plain": [
       "   Unnamed: 0    #                 Name       Price  24h %    7d %  \\\n",
       "0         NaN  1.0       Bitcoin1BTCBuy  $63,008.45  0.23%  11.56%   \n",
       "1         NaN  2.0      Ethereum2ETHBuy   $2,441.04  7.16%  21.46%   \n",
       "2         NaN  3.0  Binance Coin3BNBBuy     $541.02  3.00%  40.95%   \n",
       "3         NaN  4.0              XRP4XRP       $1.82  4.73%  92.61%   \n",
       "4         NaN  5.0          Cardano5ADA       $1.48  5.91%  23.70%   \n",
       "\n",
       "           Market Cap                        Volume(24h)  Circulating Supply  \\\n",
       "0  $1,177,169,496,597       $77,519,743,9171,230,307 BTC      18,682,725 BTC   \n",
       "1    $281,868,469,681      $35,510,332,42714,547,240 ETH     115,470,846 ETH   \n",
       "2     $83,605,967,596       $7,377,412,66413,636,014 BNB     154,532,785 BNB   \n",
       "3     $82,740,707,544  $28,831,557,68815,821,340,062 XRP  45,404,028,640 XRP   \n",
       "4     $47,196,914,481    $9,639,600,2536,525,192,063 ADA  31,948,309,441 ADA   \n",
       "\n",
       "   Last 7 Days  Unnamed: 10  \n",
       "0          NaN          NaN  \n",
       "1          NaN          NaN  \n",
       "2          NaN          NaN  \n",
       "3          NaN          NaN  \n",
       "4          NaN          NaN  "
      ]
     },
     "execution_count": 5,
     "metadata": {},
     "output_type": "execute_result"
    }
   ],
   "source": [
    "df = tables[0]\n",
    "df.head()"
   ]
  },
  {
   "cell_type": "code",
   "execution_count": 6,
   "metadata": {
    "scrolled": true
   },
   "outputs": [
    {
     "data": {
      "text/html": [
       "<div>\n",
       "<style scoped>\n",
       "    .dataframe tbody tr th:only-of-type {\n",
       "        vertical-align: middle;\n",
       "    }\n",
       "\n",
       "    .dataframe tbody tr th {\n",
       "        vertical-align: top;\n",
       "    }\n",
       "\n",
       "    .dataframe thead th {\n",
       "        text-align: right;\n",
       "    }\n",
       "</style>\n",
       "<table border=\"1\" class=\"dataframe\">\n",
       "  <thead>\n",
       "    <tr style=\"text-align: right;\">\n",
       "      <th></th>\n",
       "      <th>#</th>\n",
       "      <th>Name</th>\n",
       "      <th>Price</th>\n",
       "    </tr>\n",
       "  </thead>\n",
       "  <tbody>\n",
       "    <tr>\n",
       "      <th>0</th>\n",
       "      <td>1.0</td>\n",
       "      <td>Bitcoin1BTCBuy</td>\n",
       "      <td>$63,008.45</td>\n",
       "    </tr>\n",
       "    <tr>\n",
       "      <th>1</th>\n",
       "      <td>2.0</td>\n",
       "      <td>Ethereum2ETHBuy</td>\n",
       "      <td>$2,441.04</td>\n",
       "    </tr>\n",
       "    <tr>\n",
       "      <th>2</th>\n",
       "      <td>3.0</td>\n",
       "      <td>Binance Coin3BNBBuy</td>\n",
       "      <td>$541.02</td>\n",
       "    </tr>\n",
       "    <tr>\n",
       "      <th>3</th>\n",
       "      <td>4.0</td>\n",
       "      <td>XRP4XRP</td>\n",
       "      <td>$1.82</td>\n",
       "    </tr>\n",
       "    <tr>\n",
       "      <th>4</th>\n",
       "      <td>5.0</td>\n",
       "      <td>Cardano5ADA</td>\n",
       "      <td>$1.48</td>\n",
       "    </tr>\n",
       "  </tbody>\n",
       "</table>\n",
       "</div>"
      ],
      "text/plain": [
       "     #                 Name       Price\n",
       "0  1.0       Bitcoin1BTCBuy  $63,008.45\n",
       "1  2.0      Ethereum2ETHBuy   $2,441.04\n",
       "2  3.0  Binance Coin3BNBBuy     $541.02\n",
       "3  4.0              XRP4XRP       $1.82\n",
       "4  5.0          Cardano5ADA       $1.48"
      ]
     },
     "execution_count": 6,
     "metadata": {},
     "output_type": "execute_result"
    }
   ],
   "source": [
    "# using only the tables that will match our PostgreSQL database schema\n",
    "columns = ['#', 'Name', 'Price']\n",
    "cryptos_df = df[columns]\n",
    "cryptos_df.head()"
   ]
  },
  {
   "cell_type": "code",
   "execution_count": 7,
   "metadata": {
    "scrolled": true
   },
   "outputs": [],
   "source": [
    "# converting # column values to integer\n",
    "cryptos_df['#'] = cryptos_df['#'].astype(float).map(\"{:.0f}\".format).copy()\n",
    "cryptos_df.rename(columns={'#':'id','Name':'coin_name','Price':'latest_price'}, inplace=True)\n",
    "# obtaiting only the first 10 coins\n",
    "cryptos_df = cryptos_df[:10]"
   ]
  },
  {
   "cell_type": "code",
   "execution_count": 8,
   "metadata": {
    "scrolled": false
   },
   "outputs": [
    {
     "data": {
      "text/html": [
       "<div>\n",
       "<style scoped>\n",
       "    .dataframe tbody tr th:only-of-type {\n",
       "        vertical-align: middle;\n",
       "    }\n",
       "\n",
       "    .dataframe tbody tr th {\n",
       "        vertical-align: top;\n",
       "    }\n",
       "\n",
       "    .dataframe thead th {\n",
       "        text-align: right;\n",
       "    }\n",
       "</style>\n",
       "<table border=\"1\" class=\"dataframe\">\n",
       "  <thead>\n",
       "    <tr style=\"text-align: right;\">\n",
       "      <th></th>\n",
       "      <th>id</th>\n",
       "      <th>coin_name</th>\n",
       "      <th>latest_price</th>\n",
       "    </tr>\n",
       "  </thead>\n",
       "  <tbody>\n",
       "    <tr>\n",
       "      <th>0</th>\n",
       "      <td>1</td>\n",
       "      <td>Bitcoin1BTCBuy</td>\n",
       "      <td>63008.45</td>\n",
       "    </tr>\n",
       "    <tr>\n",
       "      <th>1</th>\n",
       "      <td>2</td>\n",
       "      <td>Ethereum2ETHBuy</td>\n",
       "      <td>2441.04</td>\n",
       "    </tr>\n",
       "    <tr>\n",
       "      <th>2</th>\n",
       "      <td>3</td>\n",
       "      <td>Binance Coin3BNBBuy</td>\n",
       "      <td>541.02</td>\n",
       "    </tr>\n",
       "    <tr>\n",
       "      <th>3</th>\n",
       "      <td>4</td>\n",
       "      <td>XRP4XRP</td>\n",
       "      <td>1.82</td>\n",
       "    </tr>\n",
       "    <tr>\n",
       "      <th>4</th>\n",
       "      <td>5</td>\n",
       "      <td>Cardano5ADA</td>\n",
       "      <td>1.48</td>\n",
       "    </tr>\n",
       "  </tbody>\n",
       "</table>\n",
       "</div>"
      ],
      "text/plain": [
       "  id            coin_name  latest_price\n",
       "0  1       Bitcoin1BTCBuy      63008.45\n",
       "1  2      Ethereum2ETHBuy       2441.04\n",
       "2  3  Binance Coin3BNBBuy        541.02\n",
       "3  4              XRP4XRP          1.82\n",
       "4  5          Cardano5ADA          1.48"
      ]
     },
     "execution_count": 8,
     "metadata": {},
     "output_type": "execute_result"
    }
   ],
   "source": [
    "cryptos_df['latest_price'] = cryptos_df['latest_price'].replace({'\\$': '', ',': ''}, regex=True).astype(float)\n",
    "cryptos_df.head()"
   ]
  },
  {
   "cell_type": "code",
   "execution_count": 9,
   "metadata": {},
   "outputs": [
    {
     "data": {
      "text/html": [
       "<div>\n",
       "<style scoped>\n",
       "    .dataframe tbody tr th:only-of-type {\n",
       "        vertical-align: middle;\n",
       "    }\n",
       "\n",
       "    .dataframe tbody tr th {\n",
       "        vertical-align: top;\n",
       "    }\n",
       "\n",
       "    .dataframe thead th {\n",
       "        text-align: right;\n",
       "    }\n",
       "</style>\n",
       "<table border=\"1\" class=\"dataframe\">\n",
       "  <thead>\n",
       "    <tr style=\"text-align: right;\">\n",
       "      <th></th>\n",
       "      <th>0</th>\n",
       "      <th>1</th>\n",
       "      <th>2</th>\n",
       "    </tr>\n",
       "  </thead>\n",
       "  <tbody>\n",
       "    <tr>\n",
       "      <th>0</th>\n",
       "      <td>Bitcoin</td>\n",
       "      <td>1</td>\n",
       "      <td>BTCBuy</td>\n",
       "    </tr>\n",
       "    <tr>\n",
       "      <th>1</th>\n",
       "      <td>Ethereum</td>\n",
       "      <td>2</td>\n",
       "      <td>ETHBuy</td>\n",
       "    </tr>\n",
       "    <tr>\n",
       "      <th>2</th>\n",
       "      <td>Binance Coin</td>\n",
       "      <td>3</td>\n",
       "      <td>BNBBuy</td>\n",
       "    </tr>\n",
       "    <tr>\n",
       "      <th>3</th>\n",
       "      <td>XRP</td>\n",
       "      <td>4</td>\n",
       "      <td>XRP</td>\n",
       "    </tr>\n",
       "    <tr>\n",
       "      <th>4</th>\n",
       "      <td>Cardano</td>\n",
       "      <td>5</td>\n",
       "      <td>ADA</td>\n",
       "    </tr>\n",
       "  </tbody>\n",
       "</table>\n",
       "</div>"
      ],
      "text/plain": [
       "              0  1       2\n",
       "0       Bitcoin  1  BTCBuy\n",
       "1      Ethereum  2  ETHBuy\n",
       "2  Binance Coin  3  BNBBuy\n",
       "3           XRP  4     XRP\n",
       "4       Cardano  5     ADA"
      ]
     },
     "execution_count": 9,
     "metadata": {},
     "output_type": "execute_result"
    }
   ],
   "source": [
    "# Splitting Name column into 2 different columns which will containt the coin name and coin symbol using a number as a delimiter\n",
    "# and using n=1 to do this only once, in case the coin name contains a number already\n",
    "columnsplit = cryptos_df['coin_name'].str.split('(\\d+)',n=1, expand=True)\n",
    "columnsplit.head()"
   ]
  },
  {
   "cell_type": "markdown",
   "metadata": {},
   "source": [
    "###### Formatting table to match our postgreSQL table in our DB"
   ]
  },
  {
   "cell_type": "code",
   "execution_count": 10,
   "metadata": {},
   "outputs": [],
   "source": [
    "columnsplit = cryptos_df['coin_name'].str.split('(\\d+)',n=1, expand=True)\n",
    "# since coin_symbol column originally contains a recommendation to \"Buy\" if applicable on coinmarketcap, we will get rid of that\n",
    "# columnsplit[1] = columnsplit[1].str.replace('Buy', '', regex=True) by ignoring index 1\n",
    "cryptos_df = cryptos_df.assign(coin_name=columnsplit[0],coin_symbol=columnsplit[2].str.replace('Buy',''))"
   ]
  },
  {
   "cell_type": "code",
   "execution_count": 11,
   "metadata": {},
   "outputs": [
    {
     "data": {
      "text/html": [
       "<div>\n",
       "<style scoped>\n",
       "    .dataframe tbody tr th:only-of-type {\n",
       "        vertical-align: middle;\n",
       "    }\n",
       "\n",
       "    .dataframe tbody tr th {\n",
       "        vertical-align: top;\n",
       "    }\n",
       "\n",
       "    .dataframe thead th {\n",
       "        text-align: right;\n",
       "    }\n",
       "</style>\n",
       "<table border=\"1\" class=\"dataframe\">\n",
       "  <thead>\n",
       "    <tr style=\"text-align: right;\">\n",
       "      <th></th>\n",
       "      <th>id</th>\n",
       "      <th>coin_name</th>\n",
       "      <th>latest_price</th>\n",
       "      <th>coin_symbol</th>\n",
       "    </tr>\n",
       "  </thead>\n",
       "  <tbody>\n",
       "    <tr>\n",
       "      <th>0</th>\n",
       "      <td>1</td>\n",
       "      <td>Bitcoin</td>\n",
       "      <td>63008.45</td>\n",
       "      <td>BTC</td>\n",
       "    </tr>\n",
       "    <tr>\n",
       "      <th>1</th>\n",
       "      <td>2</td>\n",
       "      <td>Ethereum</td>\n",
       "      <td>2441.04</td>\n",
       "      <td>ETH</td>\n",
       "    </tr>\n",
       "    <tr>\n",
       "      <th>2</th>\n",
       "      <td>3</td>\n",
       "      <td>Binance Coin</td>\n",
       "      <td>541.02</td>\n",
       "      <td>BNB</td>\n",
       "    </tr>\n",
       "    <tr>\n",
       "      <th>3</th>\n",
       "      <td>4</td>\n",
       "      <td>XRP</td>\n",
       "      <td>1.82</td>\n",
       "      <td>XRP</td>\n",
       "    </tr>\n",
       "    <tr>\n",
       "      <th>4</th>\n",
       "      <td>5</td>\n",
       "      <td>Cardano</td>\n",
       "      <td>1.48</td>\n",
       "      <td>ADA</td>\n",
       "    </tr>\n",
       "    <tr>\n",
       "      <th>5</th>\n",
       "      <td>6</td>\n",
       "      <td>Tether</td>\n",
       "      <td>1.00</td>\n",
       "      <td>USDT</td>\n",
       "    </tr>\n",
       "    <tr>\n",
       "      <th>6</th>\n",
       "      <td>7</td>\n",
       "      <td>Polkadot</td>\n",
       "      <td>42.51</td>\n",
       "      <td>DOT</td>\n",
       "    </tr>\n",
       "    <tr>\n",
       "      <th>7</th>\n",
       "      <td>8</td>\n",
       "      <td>Uniswap</td>\n",
       "      <td>36.14</td>\n",
       "      <td>UNI</td>\n",
       "    </tr>\n",
       "    <tr>\n",
       "      <th>8</th>\n",
       "      <td>9</td>\n",
       "      <td>Litecoin</td>\n",
       "      <td>278.22</td>\n",
       "      <td>LTC</td>\n",
       "    </tr>\n",
       "    <tr>\n",
       "      <th>9</th>\n",
       "      <td>10</td>\n",
       "      <td>Chainlink</td>\n",
       "      <td>41.47</td>\n",
       "      <td>LINK</td>\n",
       "    </tr>\n",
       "  </tbody>\n",
       "</table>\n",
       "</div>"
      ],
      "text/plain": [
       "   id     coin_name  latest_price coin_symbol\n",
       "0   1       Bitcoin      63008.45         BTC\n",
       "1   2      Ethereum       2441.04         ETH\n",
       "2   3  Binance Coin        541.02         BNB\n",
       "3   4           XRP          1.82         XRP\n",
       "4   5       Cardano          1.48         ADA\n",
       "5   6        Tether          1.00        USDT\n",
       "6   7      Polkadot         42.51         DOT\n",
       "7   8       Uniswap         36.14         UNI\n",
       "8   9      Litecoin        278.22         LTC\n",
       "9  10     Chainlink         41.47        LINK"
      ]
     },
     "execution_count": 11,
     "metadata": {},
     "output_type": "execute_result"
    }
   ],
   "source": [
    "cryptos_df"
   ]
  },
  {
   "cell_type": "code",
   "execution_count": 12,
   "metadata": {
    "scrolled": true
   },
   "outputs": [],
   "source": [
    "# rearranging columns\n",
    "columns = cryptos_df.columns.to_list()"
   ]
  },
  {
   "cell_type": "code",
   "execution_count": 13,
   "metadata": {},
   "outputs": [
    {
     "data": {
      "text/plain": [
       "['id', 'coin_name', 'coin_symbol', 'latest_price']"
      ]
     },
     "execution_count": 13,
     "metadata": {},
     "output_type": "execute_result"
    }
   ],
   "source": [
    "# new order\n",
    "columns = columns[:2] + [columns[-1]] + [columns[-2]]\n",
    "columns"
   ]
  },
  {
   "cell_type": "code",
   "execution_count": 14,
   "metadata": {
    "scrolled": true
   },
   "outputs": [
    {
     "data": {
      "text/html": [
       "<div>\n",
       "<style scoped>\n",
       "    .dataframe tbody tr th:only-of-type {\n",
       "        vertical-align: middle;\n",
       "    }\n",
       "\n",
       "    .dataframe tbody tr th {\n",
       "        vertical-align: top;\n",
       "    }\n",
       "\n",
       "    .dataframe thead th {\n",
       "        text-align: right;\n",
       "    }\n",
       "</style>\n",
       "<table border=\"1\" class=\"dataframe\">\n",
       "  <thead>\n",
       "    <tr style=\"text-align: right;\">\n",
       "      <th></th>\n",
       "      <th>id</th>\n",
       "      <th>coin_name</th>\n",
       "      <th>coin_symbol</th>\n",
       "      <th>latest_price</th>\n",
       "    </tr>\n",
       "  </thead>\n",
       "  <tbody>\n",
       "    <tr>\n",
       "      <th>0</th>\n",
       "      <td>1</td>\n",
       "      <td>Bitcoin</td>\n",
       "      <td>BTC</td>\n",
       "      <td>63008.45</td>\n",
       "    </tr>\n",
       "    <tr>\n",
       "      <th>1</th>\n",
       "      <td>2</td>\n",
       "      <td>Ethereum</td>\n",
       "      <td>ETH</td>\n",
       "      <td>2441.04</td>\n",
       "    </tr>\n",
       "    <tr>\n",
       "      <th>2</th>\n",
       "      <td>3</td>\n",
       "      <td>Binance Coin</td>\n",
       "      <td>BNB</td>\n",
       "      <td>541.02</td>\n",
       "    </tr>\n",
       "    <tr>\n",
       "      <th>3</th>\n",
       "      <td>4</td>\n",
       "      <td>XRP</td>\n",
       "      <td>XRP</td>\n",
       "      <td>1.82</td>\n",
       "    </tr>\n",
       "    <tr>\n",
       "      <th>4</th>\n",
       "      <td>5</td>\n",
       "      <td>Cardano</td>\n",
       "      <td>ADA</td>\n",
       "      <td>1.48</td>\n",
       "    </tr>\n",
       "    <tr>\n",
       "      <th>5</th>\n",
       "      <td>6</td>\n",
       "      <td>Tether</td>\n",
       "      <td>USDT</td>\n",
       "      <td>1.00</td>\n",
       "    </tr>\n",
       "    <tr>\n",
       "      <th>6</th>\n",
       "      <td>7</td>\n",
       "      <td>Polkadot</td>\n",
       "      <td>DOT</td>\n",
       "      <td>42.51</td>\n",
       "    </tr>\n",
       "    <tr>\n",
       "      <th>7</th>\n",
       "      <td>8</td>\n",
       "      <td>Uniswap</td>\n",
       "      <td>UNI</td>\n",
       "      <td>36.14</td>\n",
       "    </tr>\n",
       "    <tr>\n",
       "      <th>8</th>\n",
       "      <td>9</td>\n",
       "      <td>Litecoin</td>\n",
       "      <td>LTC</td>\n",
       "      <td>278.22</td>\n",
       "    </tr>\n",
       "    <tr>\n",
       "      <th>9</th>\n",
       "      <td>10</td>\n",
       "      <td>Chainlink</td>\n",
       "      <td>LINK</td>\n",
       "      <td>41.47</td>\n",
       "    </tr>\n",
       "  </tbody>\n",
       "</table>\n",
       "</div>"
      ],
      "text/plain": [
       "   id     coin_name coin_symbol  latest_price\n",
       "0   1       Bitcoin         BTC      63008.45\n",
       "1   2      Ethereum         ETH       2441.04\n",
       "2   3  Binance Coin         BNB        541.02\n",
       "3   4           XRP         XRP          1.82\n",
       "4   5       Cardano         ADA          1.48\n",
       "5   6        Tether        USDT          1.00\n",
       "6   7      Polkadot         DOT         42.51\n",
       "7   8       Uniswap         UNI         36.14\n",
       "8   9      Litecoin         LTC        278.22\n",
       "9  10     Chainlink        LINK         41.47"
      ]
     },
     "execution_count": 14,
     "metadata": {},
     "output_type": "execute_result"
    }
   ],
   "source": [
    "cryptos_df = cryptos_df[columns]\n",
    "cryptos_df"
   ]
  },
  {
   "cell_type": "markdown",
   "metadata": {},
   "source": [
    "<div><h3 style=\"color:green;\">Dowloading the CSV files if available at https://www.cryptodatadownload.com/data/binance/</h3></div>"
   ]
  },
  {
   "cell_type": "code",
   "execution_count": 15,
   "metadata": {},
   "outputs": [
    {
     "data": {
      "text/plain": [
       "['BTC', 'ETH', 'BNB', 'XRP', 'ADA', 'USDT', 'DOT', 'UNI', 'LTC', 'LINK']"
      ]
     },
     "execution_count": 15,
     "metadata": {},
     "output_type": "execute_result"
    }
   ],
   "source": [
    "# Obtaining symbols in the dataframe and storing in a list\n",
    "symbols = cryptos_df['coin_symbol'].to_list()\n",
    "symbols"
   ]
  },
  {
   "cell_type": "markdown",
   "metadata": {},
   "source": [
    "###### Web Scraping using beautiulsoup"
   ]
  },
  {
   "cell_type": "code",
   "execution_count": 16,
   "metadata": {},
   "outputs": [],
   "source": [
    "# URL of page to be scraped\n",
    "url = 'https://www.cryptodatadownload.com/data/binance/'\n",
    "# instantiating the webdriver for Chrome!!!\n",
    "browser.visit(url)\n",
    "# Getting the webpage content\n",
    "html = browser.html\n",
    "# parsing our html plain text to a BS object\n",
    "soup = BeautifulSoup(html, 'html.parser')\n",
    "browser.quit()"
   ]
  },
  {
   "cell_type": "code",
   "execution_count": 17,
   "metadata": {},
   "outputs": [],
   "source": [
    "prhs = soup.find_all('p')"
   ]
  },
  {
   "cell_type": "code",
   "execution_count": 18,
   "metadata": {},
   "outputs": [],
   "source": [
    "bnb_cryptos = prhs[3]\n",
    "links = bnb_cryptos.find_all('a')\n",
    "complete_links = [\"https://www.cryptodatadownload.com\" + link['href'] for link in links if \"cdd\" in link['href']]"
   ]
  },
  {
   "cell_type": "code",
   "execution_count": 19,
   "metadata": {},
   "outputs": [
    {
     "data": {
      "text/plain": [
       "['https://www.cryptodatadownload.com/cdd/Binance_BTCUSDT_d.csv',\n",
       " 'https://www.cryptodatadownload.com/cdd/Binance_BTCUSDT_1h.csv',\n",
       " 'https://www.cryptodatadownload.com/cdd/Binance_BTCUSDT_minute.csv',\n",
       " 'https://www.cryptodatadownload.com/cdd/Binance_ETHUSDT_d.csv',\n",
       " 'https://www.cryptodatadownload.com/cdd/Binance_ETHUSDT_1h.csv',\n",
       " 'https://www.cryptodatadownload.com/cdd/Binance_ETHUSDT_minute.csv',\n",
       " 'https://www.cryptodatadownload.com/cdd/Binance_LTCUSDT_d.csv',\n",
       " 'https://www.cryptodatadownload.com/cdd/Binance_LTCUSDT_1h.csv',\n",
       " 'https://www.cryptodatadownload.com/cdd/Binance_LTCUSDT_minute.csv',\n",
       " 'https://www.cryptodatadownload.com/cdd/Binance_NEOUSDT_d.csv',\n",
       " 'https://www.cryptodatadownload.com/cdd/Binance_NEOUSDT_1h.csv',\n",
       " 'https://www.cryptodatadownload.com/cdd/Binance_NEOUSDT_minute.csv',\n",
       " 'https://www.cryptodatadownload.com/cdd/Binance_BNBUSDT_d.csv',\n",
       " 'https://www.cryptodatadownload.com/cdd/Binance_BNBUSDT_1h.csv',\n",
       " 'https://www.cryptodatadownload.com/cdd/Binance_BNBUSDT_minute.csv',\n",
       " 'https://www.cryptodatadownload.com/cdd/Binance_XRPUSDT_d.csv',\n",
       " 'https://www.cryptodatadownload.com/cdd/Binance_XRPUSDT_1h.csv',\n",
       " 'https://www.cryptodatadownload.com/cdd/Binance_XRPUSDT_minute.csv',\n",
       " 'https://www.cryptodatadownload.com/cdd/Binance_LINKUSDT_d.csv',\n",
       " 'https://www.cryptodatadownload.com/cdd/Binance_LINKUSDT_1h.csv',\n",
       " 'https://www.cryptodatadownload.com/cdd/Binance_LINKUSDT_minute.csv',\n",
       " 'https://www.cryptodatadownload.com/cdd/Binance_EOSUSDT_d.csv',\n",
       " 'https://www.cryptodatadownload.com/cdd/Binance_EOSUSDT_1h.csv',\n",
       " 'https://www.cryptodatadownload.com/cdd/Binance_EOSUSDT_minute.csv',\n",
       " 'https://www.cryptodatadownload.com/cdd/Binance_TRXUSDT_d.csv',\n",
       " 'https://www.cryptodatadownload.com/cdd/Binance_TRXUSDT_1h.csv',\n",
       " 'https://www.cryptodatadownload.com/cdd/Binance_TRXUSDT_minute.csv',\n",
       " 'https://www.cryptodatadownload.com/cdd/Binance_ETCUSDT_d.csv',\n",
       " 'https://www.cryptodatadownload.com/cdd/Binance_ETCUSDT_1h.csv',\n",
       " 'https://www.cryptodatadownload.com/cdd/Binance_ETCUSDT_minute.csv',\n",
       " 'https://www.cryptodatadownload.com/cdd/Binance_XLMUSDT_d.csv',\n",
       " 'https://www.cryptodatadownload.com/cdd/Binance_XLMUSDT_1h.csv',\n",
       " 'https://www.cryptodatadownload.com/cdd/Binance_XLMUSDT_minute.csv',\n",
       " 'https://www.cryptodatadownload.com/cdd/Binance_ZECUSDT_d.csv',\n",
       " 'https://www.cryptodatadownload.com/cdd/Binance_ZECUSDT_1h.csv',\n",
       " 'https://www.cryptodatadownload.com/cdd/Binance_ZECUSDT_minute.csv',\n",
       " 'https://www.cryptodatadownload.com/cdd/Binance_ADAUSDT_d.csv',\n",
       " 'https://www.cryptodatadownload.com/cdd/Binance_ADAUSDT_1h.csv',\n",
       " 'https://www.cryptodatadownload.com/cdd/Binance_ADAUSDT_minute.csv',\n",
       " 'https://www.cryptodatadownload.com/cdd/Binance_QTUMUSDT_d.csv',\n",
       " 'https://www.cryptodatadownload.com/cdd/Binance_QTUMUSDT_1h.csv',\n",
       " 'https://www.cryptodatadownload.com/cdd/Binance_QTUMUSDT_minute.csv',\n",
       " 'https://www.cryptodatadownload.com/cdd/Binance_DASHUSDT_d.csv',\n",
       " 'https://www.cryptodatadownload.com/cdd/Binance_DASHUSDT_1h.csv',\n",
       " 'https://www.cryptodatadownload.com/cdd/Binance_DASHUSDT_minute.csv',\n",
       " 'https://www.cryptodatadownload.com/cdd/Binance_XMRUSDT_d.csv',\n",
       " 'https://www.cryptodatadownload.com/cdd/Binance_XMRUSDT_1h.csv',\n",
       " 'https://www.cryptodatadownload.com/cdd/Binance_XMRUSDT_minute.csv',\n",
       " 'https://www.cryptodatadownload.com/cdd/Binance_BTTUSDT_d.csv',\n",
       " 'https://www.cryptodatadownload.com/cdd/Binance_BTTUSDT_1h.csv',\n",
       " 'https://www.cryptodatadownload.com/cdd/Binance_BTTUSDT_minute.csv']"
      ]
     },
     "execution_count": 19,
     "metadata": {},
     "output_type": "execute_result"
    }
   ],
   "source": [
    "complete_links"
   ]
  },
  {
   "cell_type": "code",
   "execution_count": 51,
   "metadata": {},
   "outputs": [
    {
     "data": {
      "text/plain": [
       "51"
      ]
     },
     "execution_count": 51,
     "metadata": {},
     "output_type": "execute_result"
    }
   ],
   "source": [
    "len(complete_links)"
   ]
  },
  {
   "cell_type": "code",
   "execution_count": 54,
   "metadata": {},
   "outputs": [],
   "source": [
    "crypto_data_found = []\n",
    "for symbol in (symbols):\n",
    "    for index,link in enumerate(complete_links):\n",
    "        if symbol in link:\n",
    "            crypto_data_found.append((symbol,True))\n",
    "            break\n",
    "        if index==len(complete_links)-1:\n",
    "            crypto_data_found.append((symbol,False))\n"
   ]
  },
  {
   "cell_type": "code",
   "execution_count": 53,
   "metadata": {},
   "outputs": [
    {
     "data": {
      "text/plain": [
       "[('BTC', True),\n",
       " ('ETH', True),\n",
       " ('BNB', True),\n",
       " ('XRP', True),\n",
       " ('ADA', True),\n",
       " ('USDT', True),\n",
       " ('DOT', False),\n",
       " ('UNI', False),\n",
       " ('LTC', True),\n",
       " ('LINK', True)]"
      ]
     },
     "execution_count": 53,
     "metadata": {},
     "output_type": "execute_result"
    }
   ],
   "source": [
    "crypto_data_found"
   ]
  },
  {
   "cell_type": "code",
   "execution_count": 64,
   "metadata": {},
   "outputs": [
    {
     "name": "stdout",
     "output_type": "stream",
     "text": [
      "Created datasets folder\n"
     ]
    }
   ],
   "source": [
    "from fs.osfs import OSFS\n",
    "with OSFS(\"./Resources\") as myfs:\n",
    "    if(not myfs.exists(\"datasets\")):\n",
    "        myfs.makedir(\"datasets\")\n",
    "        print(\"Created datasets folder\")"
   ]
  },
  {
   "cell_type": "code",
   "execution_count": null,
   "metadata": {},
   "outputs": [],
   "source": []
  }
 ],
 "metadata": {
  "kernelspec": {
   "display_name": "Python 3",
   "language": "python",
   "name": "python3"
  },
  "language_info": {
   "codemirror_mode": {
    "name": "ipython",
    "version": 3
   },
   "file_extension": ".py",
   "mimetype": "text/x-python",
   "name": "python",
   "nbconvert_exporter": "python",
   "pygments_lexer": "ipython3",
   "version": "3.8.5"
  }
 },
 "nbformat": 4,
 "nbformat_minor": 4
}
