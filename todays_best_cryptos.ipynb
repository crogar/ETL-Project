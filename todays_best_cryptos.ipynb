{
 "cells": [
  {
   "cell_type": "markdown",
   "metadata": {},
   "source": [
    "# Today's best cryptocurrencies historical data"
   ]
  },
  {
   "cell_type": "code",
   "execution_count": 4,
   "metadata": {},
   "outputs": [],
   "source": [
    "import pandas as pd\n",
    "import pendulum\n",
    "from sqlalchemy import create_engine\n",
    "import numpy as np\n",
    "from splinter import Browser\n",
    "from bs4 import BeautifulSoup\n",
    "import os\n",
    "import requests\n",
    "import json"
   ]
  },
  {
   "cell_type": "markdown",
   "metadata": {},
   "source": [
    "#### PROPOSAL CONCEPT: Finance\n",
    "\n",
    "#### Goal: Our goal is to create tables showing today’s 10 best/most profitable cryptocurrencies to invest in. We will look at historical data for the previous year and create a database by hourly and daily price changes. \n",
    "\n",
    "#### METHOD: we aim to do this by extracting data based on the ranks of the cryptocurrency and also the daily and hourly change of the cryptocurrency. \n",
    "\n",
    "#### FINDING DATA: Following are the sources for finding and collecting our data. Sources: Cryptocurrencies: https://coinmarketcap.com/ \n",
    "CSV files: https://www.cryptodatadownload.com/data/binance/\n",
    "APIs: https://financialmodelingprep.com/api/v3/ https://rest.coinapi.io/v1/\n",
    "\n",
    "#### Data collection tools: Splinter APIs BeautifulSoup\n",
    "\n",
    "#### DATA AND CLEANUP: Cleanup process: Pandas SqlAlchemy Database: PostgreSQL\n",
    "\n",
    "##### TEAM MEMBERS Juan Castaneda Elif Evrim Polat Nichole Edet"
   ]
  },
  {
   "cell_type": "markdown",
   "metadata": {},
   "source": []
  }
 ],
 "metadata": {
  "kernelspec": {
   "display_name": "Python 3",
   "language": "python",
   "name": "python3"
  },
  "language_info": {
   "codemirror_mode": {
    "name": "ipython",
    "version": 3
   },
   "file_extension": ".py",
   "mimetype": "text/x-python",
   "name": "python",
   "nbconvert_exporter": "python",
   "pygments_lexer": "ipython3",
   "version": "3.8.5"
  }
 },
 "nbformat": 4,
 "nbformat_minor": 4
}
